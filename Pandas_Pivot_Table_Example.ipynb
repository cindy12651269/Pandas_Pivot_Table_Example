{
  "nbformat": 4,
  "nbformat_minor": 0,
  "metadata": {
    "colab": {
      "provenance": [],
      "authorship_tag": "ABX9TyOxAjIAS0BeqsUsgRBb4bmd",
      "include_colab_link": true
    },
    "kernelspec": {
      "name": "python3",
      "display_name": "Python 3"
    },
    "language_info": {
      "name": "python"
    }
  },
  "cells": [
    {
      "cell_type": "markdown",
      "metadata": {
        "id": "view-in-github",
        "colab_type": "text"
      },
      "source": [
        "<a href=\"https://colab.research.google.com/github/cindy12651269/Pandas_Pivot_Table_Example/blob/cindy12651269%2Fhw1/Pandas_Pivot_Table_Example.ipynb\" target=\"_parent\"><img src=\"https://colab.research.google.com/assets/colab-badge.svg\" alt=\"Open In Colab\"/></a>"
      ]
    },
    {
      "cell_type": "code",
      "execution_count": 4,
      "metadata": {
        "colab": {
          "base_uri": "https://localhost:8080/"
        },
        "id": "lyKzwNpPE29I",
        "outputId": "80c5af52-497b-4d0e-92ce-bae944408b68"
      },
      "outputs": [
        {
          "output_type": "stream",
          "name": "stdout",
          "text": [
            "Year    2014  2015  2016  2017\n",
            "Team                          \n",
            "Devils     1     1     0     0\n",
            "Kings      1     0     1     1\n",
            "Riders     1     1     1     1\n",
            "Royals     1     1     0     0\n",
            "kings      0     1     0     0\n"
          ]
        }
      ],
      "source": [
        "import numpy as np\n",
        "import pandas as pd\n",
        "\n",
        "ipl_data = {\n",
        "    'Team': ['Riders', 'Riders', 'Devils', 'Devils', 'Kings',\n",
        "    'kings', 'Kings', 'Kings', 'Riders', 'Royals', 'Royals', 'Riders'],\n",
        "    'Rank': [1, 2, 2, 3, 3, 4, 1, 1, 2, 4, 1, 2],\n",
        "    'Year': [2014, 2015, 2014, 2015, 2014, 2015, 2016, 2017, 2016, 2014, 2015, 2017],\n",
        "    'Points': [876, 789, 863, 673, 741, 812, 756, 788, 694, 701, 804, 690]\n",
        "}\n",
        "df = pd.DataFrame(ipl_data)\n",
        "\n",
        "# Pandas_Pivot_Table_Example\n",
        "pivot_table = df.pivot_table(df, index = 'Team', columns = 'Year', aggfunc = 'size', fill_value = 0)\n",
        "print(pivot_table)\n"
      ]
    }
  ]
}